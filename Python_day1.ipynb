{
 "cells": [
  {
   "cell_type": "markdown",
   "id": "61e9f9f0",
   "metadata": {},
   "source": [
    "# Introduction to Jupiter notebook"
   ]
  },
  {
   "cell_type": "markdown",
   "id": "308c6dfd",
   "metadata": {},
   "source": [
    "First python cals as DSFP4.0 Module 7.0 (Python)"
   ]
  },
  {
   "cell_type": "markdown",
   "id": "683d6d09",
   "metadata": {},
   "source": [
    "# List of items in bullet and Numbers"
   ]
  },
  {
   "cell_type": "markdown",
   "id": "2caf93ae",
   "metadata": {},
   "source": [
    "## Numbering\n",
    "1. Names\n",
    "2. Gender\n",
    "3. Age\n",
    "4. Qualification\n"
   ]
  },
  {
   "cell_type": "markdown",
   "id": "c8a27e67",
   "metadata": {},
   "source": [
    "### Bulleting\n",
    "- Names\n",
    "- Gender\n",
    "- Age\n",
    "- Qualification"
   ]
  },
  {
   "cell_type": "code",
   "execution_count": 44,
   "id": "5119a4af",
   "metadata": {},
   "outputs": [
    {
     "data": {
      "text/plain": [
       "'Hello world'"
      ]
     },
     "execution_count": 44,
     "metadata": {},
     "output_type": "execute_result"
    }
   ],
   "source": [
    "'Hello world'"
   ]
  },
  {
   "cell_type": "code",
   "execution_count": 43,
   "id": "d708f531",
   "metadata": {
    "scrolled": true
   },
   "outputs": [
    {
     "name": "stdout",
     "output_type": "stream",
     "text": [
      "Hello world\n"
     ]
    }
   ],
   "source": [
    "print('Hello world')"
   ]
  },
  {
   "cell_type": "markdown",
   "id": "c399b057",
   "metadata": {},
   "source": [
    "![Logo](https://encrypted-tbn0.gstatic.com/images?q=tbn:ANd9GcQqhwujWlTCpHHDVDMpzztTxYLSKTgkPvBtzg&s)"
   ]
  },
  {
   "cell_type": "markdown",
   "id": "f8fbe706",
   "metadata": {},
   "source": [
    "![](https://www.google.com/imgres?q=baby&imgurl=https%3A%2F%2Fimages.ctfassets.net%2Fdvf03q5b4rnw%2F46MJVGPbXT2t5RcfFxd0Dl%2Fa039f4eb1751a1d665ea0380b8bad252%2F4J6A8109.jpg%3Fw%3D934%26h%3D1245%26q%3D80&imgrefurl=https%3A%2F%2Fwww.babyshop.com%2Fus%2Fen%2Fc%2Fbaby%2F&docid=868K9XRfsOQ84M&tbnid=aIH9sUalcBuijM&vet=12ahUKEwj98YrZo_eJAxWjXEEAHX6QMXoQM3oECBYQAA..i&w=934&h=1245&hcb=2&ved=2ahUKEwj98YrZo_eJAxWjXEEAHX6QMXoQM3oECBYQAA)"
   ]
  },
  {
   "cell_type": "code",
   "execution_count": 1,
   "id": "69c3a37c",
   "metadata": {},
   "outputs": [
    {
     "data": {
      "text/plain": [
       "6"
      ]
     },
     "execution_count": 1,
     "metadata": {},
     "output_type": "execute_result"
    }
   ],
   "source": [
    "#Addition\n",
    "2+4"
   ]
  },
  {
   "cell_type": "code",
   "execution_count": 2,
   "id": "27435e25",
   "metadata": {},
   "outputs": [
    {
     "data": {
      "text/plain": [
       "2"
      ]
     },
     "execution_count": 2,
     "metadata": {},
     "output_type": "execute_result"
    }
   ],
   "source": [
    "#subtraction\n",
    "6-4"
   ]
  },
  {
   "cell_type": "code",
   "execution_count": 3,
   "id": "c1745cd9",
   "metadata": {},
   "outputs": [
    {
     "name": "stdout",
     "output_type": "stream",
     "text": [
      "Help on built-in function print in module builtins:\n",
      "\n",
      "print(*args, sep=' ', end='\\n', file=None, flush=False)\n",
      "    Prints the values to a stream, or to sys.stdout by default.\n",
      "    \n",
      "    sep\n",
      "      string inserted between values, default a space.\n",
      "    end\n",
      "      string appended after the last value, default a newline.\n",
      "    file\n",
      "      a file-like object (stream); defaults to the current sys.stdout.\n",
      "    flush\n",
      "      whether to forcibly flush the stream.\n",
      "\n"
     ]
    }
   ],
   "source": [
    "help(print)"
   ]
  },
  {
   "cell_type": "code",
   "execution_count": null,
   "id": "08771f70",
   "metadata": {},
   "outputs": [],
   "source": []
  },
  {
   "cell_type": "code",
   "execution_count": 4,
   "id": "dd4689e0",
   "metadata": {},
   "outputs": [
    {
     "name": "stdout",
     "output_type": "stream",
     "text": [
      "CPU times: total: 0 ns\n",
      "Wall time: 0 ns\n"
     ]
    },
    {
     "data": {
      "text/plain": [
       "10"
      ]
     },
     "execution_count": 4,
     "metadata": {},
     "output_type": "execute_result"
    }
   ],
   "source": [
    "# Measure the execution time of a Python statement\n",
    "%time sum(range(5))"
   ]
  },
  {
   "cell_type": "code",
   "execution_count": 5,
   "id": "1f8c5b3c",
   "metadata": {},
   "outputs": [
    {
     "name": "stdout",
     "output_type": "stream",
     "text": [
      "Interactive namespace is empty.\n"
     ]
    }
   ],
   "source": [
    "# List all defined variables in the notebook\n",
    "%who"
   ]
  },
  {
   "cell_type": "markdown",
   "id": "45704007",
   "metadata": {},
   "source": [
    "| Name       | Age | Profession    |\n",
    "|------------|-----|---------------|\n",
    "| Maryam    | 28| Data Analysis  |"
   ]
  },
  {
   "cell_type": "code",
   "execution_count": 6,
   "id": "54cd1c6f",
   "metadata": {},
   "outputs": [
    {
     "data": {
      "text/plain": [
       "int"
      ]
     },
     "execution_count": 6,
     "metadata": {},
     "output_type": "execute_result"
    }
   ],
   "source": [
    "type(42)"
   ]
  },
  {
   "cell_type": "code",
   "execution_count": 7,
   "id": "a93ce27f",
   "metadata": {},
   "outputs": [
    {
     "data": {
      "text/plain": [
       "float"
      ]
     },
     "execution_count": 7,
     "metadata": {},
     "output_type": "execute_result"
    }
   ],
   "source": [
    "type(3.14)"
   ]
  },
  {
   "cell_type": "code",
   "execution_count": 8,
   "id": "9d1604b4",
   "metadata": {},
   "outputs": [
    {
     "data": {
      "text/plain": [
       "str"
      ]
     },
     "execution_count": 8,
     "metadata": {},
     "output_type": "execute_result"
    }
   ],
   "source": [
    "type(\"Python\")"
   ]
  },
  {
   "cell_type": "code",
   "execution_count": 9,
   "id": "85487558",
   "metadata": {},
   "outputs": [
    {
     "data": {
      "text/plain": [
       "list"
      ]
     },
     "execution_count": 9,
     "metadata": {},
     "output_type": "execute_result"
    }
   ],
   "source": [
    "type([1, 2, 3])"
   ]
  },
  {
   "cell_type": "code",
   "execution_count": 10,
   "id": "16a06c33",
   "metadata": {},
   "outputs": [
    {
     "data": {
      "text/plain": [
       "dict"
      ]
     },
     "execution_count": 10,
     "metadata": {},
     "output_type": "execute_result"
    }
   ],
   "source": [
    "type({ \"name\": \"John\", \"age\": 30 })"
   ]
  },
  {
   "cell_type": "code",
   "execution_count": 11,
   "id": "de239efb",
   "metadata": {},
   "outputs": [
    {
     "data": {
      "text/plain": [
       "42.0"
      ]
     },
     "execution_count": 11,
     "metadata": {},
     "output_type": "execute_result"
    }
   ],
   "source": [
    "float(42)"
   ]
  },
  {
   "cell_type": "code",
   "execution_count": 12,
   "id": "2625aa58",
   "metadata": {},
   "outputs": [
    {
     "data": {
      "text/plain": [
       "'42'"
      ]
     },
     "execution_count": 12,
     "metadata": {},
     "output_type": "execute_result"
    }
   ],
   "source": [
    "str(42)"
   ]
  },
  {
   "cell_type": "code",
   "execution_count": 13,
   "id": "4a003fbd",
   "metadata": {},
   "outputs": [
    {
     "data": {
      "text/plain": [
       "list"
      ]
     },
     "execution_count": 13,
     "metadata": {},
     "output_type": "execute_result"
    }
   ],
   "source": [
    "fav_fruit=['banana', 'orange', 'mango', 'grapes', 'apple']\n",
    "type(fav_fruit)"
   ]
  },
  {
   "cell_type": "code",
   "execution_count": 14,
   "id": "ef3b2a4f",
   "metadata": {},
   "outputs": [
    {
     "name": "stdout",
     "output_type": "stream",
     "text": [
      "The variable is of type str.\n"
     ]
    }
   ],
   "source": [
    "var = \"Hello, World!\"\n",
    "if isinstance(var, str):\n",
    "    print(\"The variable is of type str.\")\n",
    "else:\n",
    "    print(\"The variable is NOT of type str.\")"
   ]
  },
  {
   "cell_type": "code",
   "execution_count": 15,
   "id": "0cea041d",
   "metadata": {},
   "outputs": [
    {
     "name": "stdout",
     "output_type": "stream",
     "text": [
      "The second element is: Fiction\n"
     ]
    }
   ],
   "source": [
    "# Create a tuple with three different data types\n",
    "my_tuple = (42, \"Fiction\", 3.14)\n",
    "\n",
    "# Access the second element\n",
    "second_element = my_tuple[1]\n",
    "\n",
    "print(\"The second element is:\", second_element)"
   ]
  },
  {
   "cell_type": "code",
   "execution_count": 16,
   "id": "1c6771cc",
   "metadata": {},
   "outputs": [
    {
     "name": "stdout",
     "output_type": "stream",
     "text": [
      "The value of the key 'state' is: Kano\n"
     ]
    }
   ],
   "source": [
    "# Create a dictionary with three key-value pairs\n",
    "my_dict = {\n",
    "    \"name\": \"Khadija\",\n",
    "    \"age\": 30,\n",
    "    \"state\": \"Kano\"\n",
    "}\n",
    "\n",
    "# Retrieve the value of a specific key\n",
    "key_to_retrieve = \"state\"\n",
    "value = my_dict.get(key_to_retrieve)\n",
    "\n",
    "print(f\"The value of the key '{key_to_retrieve}' is: {value}\")"
   ]
  },
  {
   "cell_type": "code",
   "execution_count": null,
   "id": "f7b105a8",
   "metadata": {},
   "outputs": [],
   "source": []
  },
  {
   "cell_type": "code",
   "execution_count": null,
   "id": "00ab314b",
   "metadata": {},
   "outputs": [],
   "source": []
  },
  {
   "cell_type": "code",
   "execution_count": 17,
   "id": "c0c87784",
   "metadata": {},
   "outputs": [
    {
     "data": {
      "text/plain": [
       "str"
      ]
     },
     "execution_count": 17,
     "metadata": {},
     "output_type": "execute_result"
    }
   ],
   "source": [
    "type(var)"
   ]
  },
  {
   "cell_type": "code",
   "execution_count": 18,
   "id": "75d347d5",
   "metadata": {},
   "outputs": [
    {
     "name": "stdout",
     "output_type": "stream",
     "text": [
      "Original float value: 10.33\n",
      "After typecasting to integer: 10\n"
     ]
    }
   ],
   "source": [
    "# Original float value\n",
    "original_float = 10.33\n",
    "\n",
    "# Typecast float to integer\n",
    "casted_integer = int(original_float)\n",
    "\n",
    "# Print the results\n",
    "print(\"Original float value:\", original_float)\n",
    "print(\"After typecasting to integer:\", casted_integer)"
   ]
  },
  {
   "cell_type": "code",
   "execution_count": 19,
   "id": "23827819",
   "metadata": {},
   "outputs": [
    {
     "name": "stdout",
     "output_type": "stream",
     "text": [
      "something: \n",
      "The input is a string.\n"
     ]
    }
   ],
   "source": [
    "# Get input from the user\n",
    "user_input = input(\"something: \")\n",
    "\n",
    "# Check if the input is a number\n",
    "try:\n",
    "    float(user_input)  # Attempt to convert to a float\n",
    "    print(\"The input is a number.\")\n",
    "except ValueError:\n",
    "    print(\"The input is a string.\")"
   ]
  },
  {
   "cell_type": "code",
   "execution_count": 42,
   "id": "3c4834c5",
   "metadata": {},
   "outputs": [
    {
     "name": "stdout",
     "output_type": "stream",
     "text": [
      "14\n"
     ]
    }
   ],
   "source": [
    "#Assign values to three variables (x, y, z) and calculate their sum.\n",
    "x=3\n",
    "y=4\n",
    "z=7\n",
    "print(x + y + z)\n"
   ]
  },
  {
   "cell_type": "markdown",
   "id": "982eb1ad",
   "metadata": {},
   "source": [
    "## DAY 2\n",
    "Exercise 1"
   ]
  },
  {
   "cell_type": "code",
   "execution_count": 31,
   "id": "7f4bae1e",
   "metadata": {},
   "outputs": [
    {
     "name": "stdout",
     "output_type": "stream",
     "text": [
      "Hello world\n"
     ]
    }
   ],
   "source": [
    " #Write a program to concatenate \"Hello\" and \"Python\" with a space between them.\n",
    "string1 =\"Hello\"\n",
    "string2 =\"world\"\n",
    "conc_str =string1+ ' ' +string2\n",
    "print(conc_str)"
   ]
  },
  {
   "cell_type": "code",
   "execution_count": 32,
   "id": "00bbcfd5",
   "metadata": {},
   "outputs": [
    {
     "name": "stdout",
     "output_type": "stream",
     "text": [
      "24\n"
     ]
    }
   ],
   "source": [
    "#Calculate and print the length of \"Learn to code in Python!\"..\n",
    "text = \"Learn to code in Python!\"\n",
    "length = len(text)\n",
    "print(length)"
   ]
  },
  {
   "cell_type": "code",
   "execution_count": 33,
   "id": "15da9ad0",
   "metadata": {},
   "outputs": [
    {
     "data": {
      "text/plain": [
       "'Program'"
      ]
     },
     "execution_count": 33,
     "metadata": {},
     "output_type": "execute_result"
    }
   ],
   "source": [
    "#From the string \"Python Programming\", extract the substring \"Program\".\n",
    "strname=\"Python Programming\"\n",
    "strname[7:14]"
   ]
  },
  {
   "cell_type": "code",
   "execution_count": 34,
   "id": "7cd87538",
   "metadata": {},
   "outputs": [
    {
     "data": {
      "text/plain": [
       "'python rocks!'"
      ]
     },
     "execution_count": 34,
     "metadata": {},
     "output_type": "execute_result"
    }
   ],
   "source": [
    "#Convert \"Python Rocks!\" to uppercase, lowercase, and title case\n",
    "case=\"Python Rocks!\"\n",
    "case.lower()"
   ]
  },
  {
   "cell_type": "code",
   "execution_count": 35,
   "id": "bd4c1526",
   "metadata": {},
   "outputs": [
    {
     "data": {
      "text/plain": [
       "'PYTHON ROCKS!'"
      ]
     },
     "execution_count": 35,
     "metadata": {},
     "output_type": "execute_result"
    }
   ],
   "source": [
    "#upper\n",
    "case=\"Python Rocks!\"\n",
    "case.upper()"
   ]
  },
  {
   "cell_type": "code",
   "execution_count": 37,
   "id": "ef62e10b",
   "metadata": {},
   "outputs": [
    {
     "data": {
      "text/plain": [
       "'Python Rocks!'"
      ]
     },
     "execution_count": 37,
     "metadata": {},
     "output_type": "execute_result"
    }
   ],
   "source": [
    "#title case\n",
    "case=\"Python Rocks!\"\n",
    "case.title()"
   ]
  },
  {
   "cell_type": "code",
   "execution_count": 38,
   "id": "953fbec4",
   "metadata": {},
   "outputs": [
    {
     "name": "stdout",
     "output_type": "stream",
     "text": [
      "Python is not good\n"
     ]
    }
   ],
   "source": [
    "#Replace \"bad\" with \"good\" in the string \"Python is not bad\".\n",
    "rplc=\"Python is not bad\"\n",
    "updated_rplc=rplc.replace(\"bad\", \"good\")\n",
    "print(updated_rplc)"
   ]
  },
  {
   "cell_type": "code",
   "execution_count": 39,
   "id": "b1e27f89",
   "metadata": {},
   "outputs": [
    {
     "name": "stdout",
     "output_type": "stream",
     "text": [
      "\"code\" exists in the string.\n"
     ]
    }
   ],
   "source": [
    "#Check if \"code\" exists in \"Coding is fun with Python\".\n",
    "check = \"Coding is fun with Python\"\n",
    "\n",
    "# Check if \"code\" exists\n",
    "exists = \"code\" in text.lower()\n",
    "\n",
    "# Print the result\n",
    "if exists:\n",
    "    print('\"code\" exists in the string.')\n",
    "else:\n",
    "    print('\"code\" does not exist in the string.')"
   ]
  },
  {
   "cell_type": "code",
   "execution_count": 41,
   "id": "067b6af6",
   "metadata": {},
   "outputs": [
    {
     "name": "stdout",
     "output_type": "stream",
     "text": [
      "nohtyP\n"
     ]
    }
   ],
   "source": [
    "#Reverse \"Python\" and print it.\n",
    "txt = \"Python\"\n",
    "\n",
    "# Reverse the string\n",
    "reversed_txt = txt[::-1]\n",
    "print(reversed_txt)"
   ]
  },
  {
   "cell_type": "code",
   "execution_count": 43,
   "id": "8da2b90d",
   "metadata": {},
   "outputs": [
    {
     "name": "stdout",
     "output_type": "stream",
     "text": [
      "Learn-Python-the-easy-way\n"
     ]
    }
   ],
   "source": [
    "#Split \"Learn Python the easy way\" into a list of words, then join it back into a single string separated by hyphens (-).\n",
    "splt =\"Learn Python the easy way\"\n",
    "words = splt.split()\n",
    "\n",
    "# Join the list of words with hyphens\n",
    "hyphenated_text = \"-\".join(words)\n",
    "print(hyphenated_text)"
   ]
  },
  {
   "cell_type": "code",
   "execution_count": 44,
   "id": "4ece6c30",
   "metadata": {},
   "outputs": [
    {
     "name": "stdout",
     "output_type": "stream",
     "text": [
      "6\n"
     ]
    }
   ],
   "source": [
    "#Count how many times the letter 'a' appears in \"banana apple avocado\".\n",
    "fruit = \"banana apple avocado\"\n",
    "\n",
    "# Count occurrences of the letter 'a'\n",
    "count_a = fruit.count('a')\n",
    "\n",
    "# Print the result\n",
    "print(count_a)"
   ]
  },
  {
   "cell_type": "code",
   "execution_count": 46,
   "id": "08c007c8",
   "metadata": {},
   "outputs": [
    {
     "name": "stdout",
     "output_type": "stream",
     "text": [
      "I scored 95 in Python, which is awesome!\n"
     ]
    }
   ],
   "source": [
    "#Use f-strings to format and print \"I scored 95 in Python, which is awesome!\".\n",
    "score = 95\n",
    "subject = \"Python\"\n",
    "print(f\"I scored {score} in {subject}, which is awesome!\")"
   ]
  },
  {
   "cell_type": "markdown",
   "id": "0e2c7d7f",
   "metadata": {},
   "source": [
    "# Exercise 2: Lists/Tuples"
   ]
  },
  {
   "cell_type": "code",
   "execution_count": 48,
   "id": "09a30454",
   "metadata": {},
   "outputs": [
    {
     "name": "stdout",
     "output_type": "stream",
     "text": [
      "First fruit: apple\n",
      "Last fruit: elderberry\n"
     ]
    }
   ],
   "source": [
    "#Create a list of five fruits: [\"apple\", \"banana\", \"cherry\", \"date\", \"elderberry\"]. Print the first and last items.\n",
    "fruits=[\"apple\", \"banana\", \"cherry\", \"date\", \"elderberry\"]\n",
    "print(\"First fruit:\", fruits[0])\n",
    "print(\"Last fruit:\", fruits[-1])"
   ]
  },
  {
   "cell_type": "code",
   "execution_count": 49,
   "id": "a4e46367",
   "metadata": {},
   "outputs": [
    {
     "name": "stdout",
     "output_type": "stream",
     "text": [
      "['apple', 'blueberry', 'date', 'elderberry', 'fig']\n"
     ]
    }
   ],
   "source": [
    "#Add \"fig\" to the list above, remove \"cherry\", and replace \"banana\" with \"blueberry\".\n",
    "fruits = [\"apple\", \"banana\", \"cherry\", \"date\", \"elderberry\"]\n",
    "\n",
    "fruits.append(\"fig\")\n",
    "\n",
    "# Remove \"cherry\" from the list\n",
    "fruits.remove(\"cherry\")\n",
    "\n",
    "# Replace \"banana\" with \"blueberry\"\n",
    "fruits[fruits.index(\"banana\")] = \"blueberry\"\n",
    "\n",
    "# Print the modified list\n",
    "print(fruits)"
   ]
  },
  {
   "cell_type": "code",
   "execution_count": 50,
   "id": "a75a7ed6",
   "metadata": {},
   "outputs": [
    {
     "name": "stdout",
     "output_type": "stream",
     "text": [
      "['fig', 'elderberry', 'date', 'blueberry', 'apple']\n"
     ]
    }
   ],
   "source": [
    "#Sort the list in ascending order, then reverse it.\n",
    "fruits.sort()\n",
    "# Reverse the list\n",
    "fruits.reverse()\n",
    "# Print the modified list\n",
    "print(fruits)"
   ]
  },
  {
   "cell_type": "code",
   "execution_count": 59,
   "id": "e82002fb",
   "metadata": {},
   "outputs": [
    {
     "name": "stdout",
     "output_type": "stream",
     "text": [
      "first three langs ['Python', 'Java', 'C++']\n"
     ]
    }
   ],
   "source": [
    "#: From the list [\"Python\", \"Java\", \"C++\", \"Ruby\", \"Go\"], extract the first three languages.\n",
    "lang=[\"Python\", \"Java\", \"C++\", \"Ruby\", \"Go\"]\n",
    "print(\"first three langs\",lang[0:3])"
   ]
  },
  {
   "cell_type": "code",
   "execution_count": 63,
   "id": "ffa89454",
   "metadata": {},
   "outputs": [
    {
     "name": "stdout",
     "output_type": "stream",
     "text": [
      "150\n"
     ]
    }
   ],
   "source": [
    "#Create a list of numbers [10, 20, 30, 40, 50] and calculate their sum.\n",
    "numb=[10, 20, 30, 40, 50] \n",
    "num_sum=sum(numb)\n",
    "print(num_sum)"
   ]
  },
  {
   "cell_type": "code",
   "execution_count": 66,
   "id": "563ea19a",
   "metadata": {},
   "outputs": [
    {
     "data": {
      "text/plain": [
       "tuple"
      ]
     },
     "execution_count": 66,
     "metadata": {},
     "output_type": "execute_result"
    }
   ],
   "source": [
    "#Create a tuple of five numbers and print the maximum and minimum values.\n",
    "t_numb =(1,2,3,4,5)\n",
    "type(t_numb)"
   ]
  },
  {
   "cell_type": "code",
   "execution_count": 67,
   "id": "527f2571",
   "metadata": {},
   "outputs": [
    {
     "data": {
      "text/plain": [
       "5"
      ]
     },
     "execution_count": 67,
     "metadata": {},
     "output_type": "execute_result"
    }
   ],
   "source": [
    "max(t_numb)"
   ]
  },
  {
   "cell_type": "code",
   "execution_count": 68,
   "id": "40eea151",
   "metadata": {},
   "outputs": [
    {
     "data": {
      "text/plain": [
       "1"
      ]
     },
     "execution_count": 68,
     "metadata": {},
     "output_type": "execute_result"
    }
   ],
   "source": [
    "min(t_numb)"
   ]
  },
  {
   "cell_type": "code",
   "execution_count": 69,
   "id": "d1e2e35a",
   "metadata": {},
   "outputs": [
    {
     "name": "stdout",
     "output_type": "stream",
     "text": [
      "('red', 'green', 'blue')\n"
     ]
    }
   ],
   "source": [
    "#Convert the list [\"red\", \"green\", \"blue\"] into a tuple\n",
    "list=[\"red\", \"green\", \"blue\"]\n",
    "tuple_list=(\"red\", \"green\", \"blue\")\n",
    "print(tuple_list)"
   ]
  },
  {
   "cell_type": "code",
   "execution_count": 70,
   "id": "6addf21a",
   "metadata": {},
   "outputs": [
    {
     "data": {
      "text/plain": [
       "tuple"
      ]
     },
     "execution_count": 70,
     "metadata": {},
     "output_type": "execute_result"
    }
   ],
   "source": [
    "type(tuple_list)"
   ]
  },
  {
   "cell_type": "code",
   "execution_count": 75,
   "id": "5b784665",
   "metadata": {},
   "outputs": [
    {
     "name": "stdout",
     "output_type": "stream",
     "text": [
      "1\n",
      "2\n",
      "3\n"
     ]
    }
   ],
   "source": [
    "#Unpack the tuple (1, 2, 3) into three variables and print them\n",
    "tuple_list=(1, 2, 3)\n",
    "a,b,c=tuple_list\n",
    "print(a)\n",
    "print(b)\n",
    "print(c)\n"
   ]
  },
  {
   "cell_type": "code",
   "execution_count": 83,
   "id": "a2a4f62a",
   "metadata": {},
   "outputs": [
    {
     "data": {
      "text/plain": [
       "[1, 4, 9, 16, 25, 36, 49, 64, 81, 100]"
      ]
     },
     "execution_count": 83,
     "metadata": {},
     "output_type": "execute_result"
    }
   ],
   "source": [
    "#Create a new list with the squares of numbers from 1 to 10.\n",
    "new_list=[1,2,3,4,5,6,7,8,9,10]\n",
    "square_list=[ i ** 2 for i in range(1,11)]\n",
    "square_list"
   ]
  },
  {
   "cell_type": "code",
   "execution_count": 88,
   "id": "f59d6307",
   "metadata": {},
   "outputs": [
    {
     "data": {
      "text/plain": [
       "2"
      ]
     },
     "execution_count": 88,
     "metadata": {},
     "output_type": "execute_result"
    }
   ],
   "source": [
    "#Find the index of \"C++\" in the list [\"Python\", \"Java\", \"C++\", \"Ruby\", \"Go\"].\n",
    "lang.index(\"C++\")"
   ]
  },
  {
   "cell_type": "markdown",
   "id": "8a72db5c",
   "metadata": {},
   "source": [
    "# Excercise 3: Dictionaries"
   ]
  },
  {
   "cell_type": "code",
   "execution_count": 3,
   "id": "5f3a714e",
   "metadata": {},
   "outputs": [
    {
     "data": {
      "text/plain": [
       "{'name': 'Alice', 'age': 25, 'city': 'New York'}"
      ]
     },
     "execution_count": 3,
     "metadata": {},
     "output_type": "execute_result"
    }
   ],
   "source": [
    "#Create a dictionary with three key-value pairs: {\"name\": \"Alice\", \"age\": 25, \"city\": \"New York\"}.\n",
    "values_dict ={\"name\": \"Alice\", \"age\": 25, \"city\": \"New York\"}\n",
    "values_dict"
   ]
  },
  {
   "cell_type": "code",
   "execution_count": 4,
   "id": "52cf4d9f",
   "metadata": {},
   "outputs": [
    {
     "name": "stdout",
     "output_type": "stream",
     "text": [
      "New York\n"
     ]
    }
   ],
   "source": [
    "#Access and print the value of \"city\" in the dictionary above\n",
    "print(values_dict['city'])"
   ]
  },
  {
   "cell_type": "code",
   "execution_count": 5,
   "id": "beb5d5fa",
   "metadata": {},
   "outputs": [
    {
     "name": "stdout",
     "output_type": "stream",
     "text": [
      "{'name': 'Alice', 'age': 30, 'city': 'New York'}\n"
     ]
    }
   ],
   "source": [
    "#Update the \"age\" to 30 and print the dictionary\n",
    "values_dict['age']=30\n",
    "print(values_dict)"
   ]
  },
  {
   "cell_type": "code",
   "execution_count": 6,
   "id": "6d4abf6e",
   "metadata": {},
   "outputs": [
    {
     "name": "stdout",
     "output_type": "stream",
     "text": [
      "{'name': 'Alice', 'age': 30, 'city': 'New York', 'country': 'New York'}\n"
     ]
    }
   ],
   "source": [
    "#Add a new key \"country\" with the value \"USA\" to the dictionary.\n",
    "values_dict['country']='New York'\n",
    "print(values_dict)"
   ]
  },
  {
   "cell_type": "code",
   "execution_count": 8,
   "id": "9689b615",
   "metadata": {},
   "outputs": [
    {
     "name": "stdout",
     "output_type": "stream",
     "text": [
      "{'name': 'Alice', 'age': 30, 'country': 'New York'}\n"
     ]
    }
   ],
   "source": [
    "#Remove the \"city\" key from the dictionary and print the result.\n",
    "values_dict.pop('city')\n",
    "print(values_dict)"
   ]
  },
  {
   "cell_type": "code",
   "execution_count": 16,
   "id": "3a2d1053",
   "metadata": {},
   "outputs": [
    {
     "name": "stdout",
     "output_type": "stream",
     "text": [
      "key 'name' exits in the dictonary.\n"
     ]
    }
   ],
   "source": [
    "#Check if the key \"name\" exists in the dictionary.\n",
    "if 'name' in values_dict:\n",
    "    print(\"key 'name' exits in the dictonary.\")"
   ]
  },
  {
   "cell_type": "code",
   "execution_count": 36,
   "id": "e8672637",
   "metadata": {},
   "outputs": [
    {
     "name": "stdout",
     "output_type": "stream",
     "text": [
      "key, value\n"
     ]
    }
   ],
   "source": [
    "#Iterate over the dictionary and print each key and its\n",
    "values_dict.items\n",
    "print(f\"key, value\")"
   ]
  },
  {
   "cell_type": "code",
   "execution_count": 40,
   "id": "0b6c810c",
   "metadata": {},
   "outputs": [
    {
     "name": "stdout",
     "output_type": "stream",
     "text": [
      "{'x': 1, 'y': 3, 'z': 4}\n"
     ]
    }
   ],
   "source": [
    "#Merge {\"x\": 1, \"y\": 2} with {\"y\": 3, \"z\": 4} and print the result.\n",
    "dict1 = {\"x\": 1, \"y\": 2}\n",
    "dict2 = {\"y\": 3, \"z\": 4}\n",
    "dict1.update(dict2)\n",
    "print(dict1)"
   ]
  },
  {
   "cell_type": "code",
   "execution_count": 8,
   "id": "27299d8f",
   "metadata": {},
   "outputs": [
    {
     "name": "stdout",
     "output_type": "stream",
     "text": [
      "dict_values([1991, 1995, 1985])\n",
      "dict_keys(['Python', 'Java', 'C++'])\n"
     ]
    }
   ],
   "source": [
    "# Print all the keys and values from the dictionary {\"Python\": 1991, \"Java\": 1995, \"C++\": 1985}.\n",
    "dic = {\n",
    "        \"Python\": 1991,\n",
    "        \"Java\": 1995,\n",
    "        \"C++\": 1985\n",
    "}\n",
    "print(dic.values())\n",
    "print(dic.keys())"
   ]
  },
  {
   "cell_type": "code",
   "execution_count": 41,
   "id": "04e90b0a",
   "metadata": {},
   "outputs": [
    {
     "name": "stdout",
     "output_type": "stream",
     "text": [
      "{1: 1, 2: 4, 3: 9, 4: 16, 5: 25}\n"
     ]
    }
   ],
   "source": [
    "# Create a dictionary where keys are numbers from 1 to 5 and values are their squares.\n",
    "squares_dict = {i: i**2 for i in range(1, 6)}\n",
    "print(squares_dict)"
   ]
  },
  {
   "cell_type": "markdown",
   "id": "ecc6c1c1",
   "metadata": {},
   "source": [
    "### Exercise 4: Sets"
   ]
  },
  {
   "cell_type": "code",
   "execution_count": 20,
   "id": "bff77111",
   "metadata": {},
   "outputs": [
    {
     "name": "stdout",
     "output_type": "stream",
     "text": [
      "{'green', 'blue', 'red'}\n"
     ]
    }
   ],
   "source": [
    "# Create a set of three colors: {\"red\", \"green\", \"blue\"}. Print the set.\n",
    "colors = {\"red\", \"green\", \"blue\"}\n",
    "print(colors)"
   ]
  },
  {
   "cell_type": "code",
   "execution_count": 21,
   "id": "a59daf41",
   "metadata": {},
   "outputs": [
    {
     "name": "stdout",
     "output_type": "stream",
     "text": [
      "{'yellow', 'green', 'blue', 'red'}\n"
     ]
    }
   ],
   "source": [
    "# : Add \"yellow\" to the set and print the result.\n",
    "colors.add(\"yellow\")\n",
    "print(colors)"
   ]
  },
  {
   "cell_type": "code",
   "execution_count": 22,
   "id": "c6a92604",
   "metadata": {},
   "outputs": [
    {
     "name": "stdout",
     "output_type": "stream",
     "text": [
      "{'yellow', 'blue', 'red'}\n"
     ]
    }
   ],
   "source": [
    "# Remove \"green\" from the set\n",
    "colors.remove(\"green\")\n",
    "print(colors)"
   ]
  },
  {
   "cell_type": "code",
   "execution_count": 23,
   "id": "4841bafb",
   "metadata": {},
   "outputs": [
    {
     "name": "stdout",
     "output_type": "stream",
     "text": [
      "False\n"
     ]
    }
   ],
   "source": [
    "# : Check if \"blue\" exists in the set.\n",
    "print(colors == \"blue\")"
   ]
  },
  {
   "cell_type": "code",
   "execution_count": 32,
   "id": "7a6a65a5",
   "metadata": {},
   "outputs": [
    {
     "name": "stdout",
     "output_type": "stream",
     "text": [
      "{1, 2, 3, 4, 5}\n"
     ]
    }
   ],
   "source": [
    "# Find the union of {1, 2, 3} and {3, 4, 5}.\n",
    "set1 = {1, 2, 3}\n",
    "set2 = {3, 4, 5}\n",
    "union_set = set1.union(set2)\n",
    "print(union_set)"
   ]
  },
  {
   "cell_type": "code",
   "execution_count": 33,
   "id": "74781e3a",
   "metadata": {},
   "outputs": [
    {
     "name": "stdout",
     "output_type": "stream",
     "text": [
      "{3}\n"
     ]
    }
   ],
   "source": [
    "# Find the intersection of {1, 2, 3} and {3, 4, 5}\n",
    "inter1 = {1, 2, 3}\n",
    "inter2 = {3, 4, 5}\n",
    "intersected_set = inter1.intersection(inter2)\n",
    "print(intersected_set)"
   ]
  },
  {
   "cell_type": "code",
   "execution_count": 34,
   "id": "cf8778b6",
   "metadata": {},
   "outputs": [
    {
     "name": "stdout",
     "output_type": "stream",
     "text": [
      "{1, 2}\n"
     ]
    }
   ],
   "source": [
    "# Find the difference between {1, 2, 3} and {3, 4, 5}\n",
    "set1 = {1, 2, 3}\n",
    "set2 = {3, 4, 5}\n",
    "difference_set = set1.difference(set2)\n",
    "print(difference_set)"
   ]
  },
  {
   "cell_type": "code",
   "execution_count": 24,
   "id": "a2579d13",
   "metadata": {},
   "outputs": [
    {
     "name": "stdout",
     "output_type": "stream",
     "text": [
      "3\n"
     ]
    }
   ],
   "source": [
    "# Find the length of the set {1, 2, 3, 4, 5}.\n",
    "print(len(colors))"
   ]
  },
  {
   "cell_type": "code",
   "execution_count": 36,
   "id": "ef9349cb",
   "metadata": {},
   "outputs": [
    {
     "name": "stdout",
     "output_type": "stream",
     "text": [
      "True\n"
     ]
    }
   ],
   "source": [
    "# Check if {1, 2} is a subset of {1, 2, 3, 4} and {1, 2, 3, 4} is a superset of {1, 2}.\n",
    "set1 = {1, 2, 3, 4}\n",
    "set2 = {1, 2}\n",
    "print(set2 <= set1)"
   ]
  },
  {
   "cell_type": "code",
   "execution_count": 38,
   "id": "53040cdf",
   "metadata": {},
   "outputs": [
    {
     "name": "stdout",
     "output_type": "stream",
     "text": [
      "{1, 2, 3, 4}\n"
     ]
    }
   ],
   "source": [
    "# Convert the list [1, 2, 2, 3, 4, 4] into a set to remove duplicates and print the set\n",
    "my_list = [1, 2, 2, 3, 4, 4]\n",
    "my_set = {*my_list}\n",
    "print(my_set)"
   ]
  },
  {
   "cell_type": "code",
   "execution_count": null,
   "id": "f9b3da7f",
   "metadata": {},
   "outputs": [],
   "source": []
  },
  {
   "cell_type": "code",
   "execution_count": null,
   "id": "f19c6d6e",
   "metadata": {},
   "outputs": [],
   "source": []
  },
  {
   "cell_type": "code",
   "execution_count": null,
   "id": "59958b07",
   "metadata": {},
   "outputs": [],
   "source": []
  },
  {
   "cell_type": "code",
   "execution_count": null,
   "id": "20f349ec",
   "metadata": {},
   "outputs": [],
   "source": []
  },
  {
   "cell_type": "code",
   "execution_count": null,
   "id": "cef4e9ad",
   "metadata": {},
   "outputs": [],
   "source": []
  },
  {
   "cell_type": "code",
   "execution_count": null,
   "id": "95019b83",
   "metadata": {},
   "outputs": [],
   "source": []
  }
 ],
 "metadata": {
  "kernelspec": {
   "display_name": "Python 3 (ipykernel)",
   "language": "python",
   "name": "python3"
  },
  "language_info": {
   "codemirror_mode": {
    "name": "ipython",
    "version": 3
   },
   "file_extension": ".py",
   "mimetype": "text/x-python",
   "name": "python",
   "nbconvert_exporter": "python",
   "pygments_lexer": "ipython3",
   "version": "3.11.5"
  }
 },
 "nbformat": 4,
 "nbformat_minor": 5
}
